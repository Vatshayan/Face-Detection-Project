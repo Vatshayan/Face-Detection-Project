{
  "nbformat": 4,
  "nbformat_minor": 0,
  "metadata": {
    "colab": {
      "name": "face_detection D.ipynb",
      "provenance": [],
      "collapsed_sections": []
    },
    "kernelspec": {
      "name": "python3",
      "display_name": "Python 3"
    },
    "language_info": {
      "name": "python"
    }
  },
  "cells": [
    {
      "cell_type": "code",
      "metadata": {
        "colab": {
          "base_uri": "https://localhost:8080/"
        },
        "id": "uA9kIUbcoiCt",
        "outputId": "2eefdff8-a5ab-49eb-b950-07cfa62bc800"
      },
      "source": [
        "pip install opencv-python\n"
      ],
      "execution_count": 1,
      "outputs": [
        {
          "output_type": "stream",
          "name": "stdout",
          "text": [
            "Requirement already satisfied: opencv-python in /usr/local/lib/python3.7/dist-packages (4.1.2.30)\n",
            "Requirement already satisfied: numpy>=1.14.5 in /usr/local/lib/python3.7/dist-packages (from opencv-python) (1.19.5)\n"
          ]
        }
      ]
    },
    {
      "cell_type": "code",
      "metadata": {
        "colab": {
          "base_uri": "https://localhost:8080/"
        },
        "id": "DjLVyc14olFZ",
        "outputId": "93bd6888-0e4e-4287-a62c-875694bca28d"
      },
      "source": [
        "# check opencv version\n",
        "import cv2\n",
        "# print version number\n",
        "print(cv2.__version__)"
      ],
      "execution_count": 2,
      "outputs": [
        {
          "output_type": "stream",
          "name": "stdout",
          "text": [
            "4.1.2\n"
          ]
        }
      ]
    },
    {
      "cell_type": "code",
      "metadata": {
        "id": "viLgX1_9omwh"
      },
      "source": [
        "\n",
        "\n",
        "import numpy as np\n",
        "import cv2\n",
        "import matplotlib.pyplot as plt\n",
        "%matplotlib inline"
      ],
      "execution_count": null,
      "outputs": []
    },
    {
      "cell_type": "code",
      "metadata": {
        "id": "zQ_yXzpqovLL"
      },
      "source": [
        ""
      ],
      "execution_count": null,
      "outputs": []
    },
    {
      "cell_type": "markdown",
      "metadata": {
        "id": "SF3vWNwipDXZ"
      },
      "source": [
        "WAIT ... WAIT\n",
        "\n",
        "Project Code is Incomplete. \n",
        "I have whole fully Detailed Line to Line Explanation Code. \n",
        "\n",
        "Mail me to get this Full Project Code free."
      ]
    },
    {
      "cell_type": "code",
      "metadata": {
        "id": "_DLHIRdzou87"
      },
      "source": [
        ""
      ],
      "execution_count": 2,
      "outputs": []
    },
    {
      "cell_type": "markdown",
      "metadata": {
        "id": "SaCHUfXUowxW"
      },
      "source": [
        "#Mail me now at vatshayan007@gmail.com\n",
        "I will send you \n",
        "1. Project Report\n",
        "2. Project Code\n",
        "3. Synopsis\n",
        "4. Research Paper\n",
        "5. PPT \n"
      ]
    },
    {
      "cell_type": "code",
      "metadata": {
        "id": "XBZK2lSHpBB5"
      },
      "source": [
        ""
      ],
      "execution_count": null,
      "outputs": []
    }
  ]
}